{
 "cells": [
  {
   "cell_type": "markdown",
   "id": "e20f5e90",
   "metadata": {},
   "source": [
    "#### Load Spark"
   ]
  },
  {
   "cell_type": "code",
   "execution_count": 1,
   "id": "facf87e5",
   "metadata": {},
   "outputs": [
    {
     "data": {
      "text/plain": [
       "'/opt/spark-3.2.1-bin-hadoop3.2/python/pyspark/__init__.py'"
      ]
     },
     "execution_count": 1,
     "metadata": {},
     "output_type": "execute_result"
    }
   ],
   "source": [
    "import pyspark\n",
    "pyspark.__file__"
   ]
  },
  {
   "cell_type": "code",
   "execution_count": 2,
   "id": "cf85d38a",
   "metadata": {},
   "outputs": [],
   "source": [
    "from pyspark.sql import SparkSession"
   ]
  },
  {
   "cell_type": "code",
   "execution_count": 3,
   "id": "880750f3",
   "metadata": {},
   "outputs": [
    {
     "name": "stderr",
     "output_type": "stream",
     "text": [
      "22/11/19 07:05:22 WARN Utils: Your hostname, vvioo resolves to a loopback address: 127.0.1.1; using 192.168.100.9 instead (on interface wlp2s0)\n",
      "22/11/19 07:05:22 WARN Utils: Set SPARK_LOCAL_IP if you need to bind to another address\n",
      "WARNING: An illegal reflective access operation has occurred\n",
      "WARNING: Illegal reflective access by org.apache.spark.unsafe.Platform (file:/opt/spark-3.2.1-bin-hadoop3.2/jars/spark-unsafe_2.12-3.2.1.jar) to constructor java.nio.DirectByteBuffer(long,int)\n",
      "WARNING: Please consider reporting this to the maintainers of org.apache.spark.unsafe.Platform\n",
      "WARNING: Use --illegal-access=warn to enable warnings of further illegal reflective access operations\n",
      "WARNING: All illegal access operations will be denied in a future release\n",
      "Using Spark's default log4j profile: org/apache/spark/log4j-defaults.properties\n",
      "Setting default log level to \"WARN\".\n",
      "To adjust logging level use sc.setLogLevel(newLevel). For SparkR, use setLogLevel(newLevel).\n",
      "22/11/19 07:05:23 WARN NativeCodeLoader: Unable to load native-hadoop library for your platform... using builtin-java classes where applicable\n"
     ]
    }
   ],
   "source": [
    "spark = SparkSession.builder \\\n",
    "    .master(\"local[*]\") \\\n",
    "    .appName('SSStores_ETL') \\\n",
    "    .getOrCreate()"
   ]
  },
  {
   "cell_type": "markdown",
   "id": "32a00b3b",
   "metadata": {},
   "source": [
    "#### Load Data"
   ]
  },
  {
   "cell_type": "code",
   "execution_count": 4,
   "id": "2e1eaf72",
   "metadata": {},
   "outputs": [],
   "source": [
    "SSExcelData = spark.read \\\n",
    "        .option(\"header\", \"true\") \\\n",
    "        .csv('../data/SSExcelSource.csv')"
   ]
  },
  {
   "cell_type": "code",
   "execution_count": 5,
   "id": "fa9aa9c0",
   "metadata": {},
   "outputs": [
    {
     "name": "stdout",
     "output_type": "stream",
     "text": [
      "root\n",
      " |-- SalesUnits: string (nullable = true)\n",
      " |-- SalesDollar: string (nullable = true)\n",
      " |-- SalesCost: string (nullable = true)\n",
      " |-- CustID: string (nullable = true)\n",
      " |-- StoreID: string (nullable = true)\n",
      " |-- ItemID: string (nullable = true)\n",
      " |-- Day: string (nullable = true)\n",
      " |-- Month : string (nullable = true)\n",
      " |-- Year: string (nullable = true)\n",
      "\n"
     ]
    }
   ],
   "source": [
    "SSExcelData.printSchema()"
   ]
  },
  {
   "cell_type": "code",
   "execution_count": 6,
   "id": "466c8502",
   "metadata": {},
   "outputs": [
    {
     "name": "stdout",
     "output_type": "stream",
     "text": [
      "+----------+-----------+---------+--------+--------+--------+---+------+------+\n",
      "|SalesUnits|SalesDollar|SalesCost|  CustID| StoreID|  ItemID|Day|Month |  Year|\n",
      "+----------+-----------+---------+--------+--------+--------+---+------+------+\n",
      "|     111.0|     1111.0|   1111.0|C0954327|S1010398|I0036577|1.0|   2.0|2014.0|\n",
      "|     222.0|     2222.0|   2222.0|C8654390|S9432910|I0036566|3.0|   7.0|2017.0|\n",
      "|     333.0|     3333.0|   3333.0|C9128574|S0954327|I0036566|1.0|   5.0|2017.0|\n",
      "|     444.0|     4444.0|   4444.0|C9403348|S0954327|I0036577|1.0|   2.0|2017.0|\n",
      "|     101.0|     1001.0|   1001.0|C0954327|S9432910|I0036577|3.0|   7.0|2017.0|\n",
      "+----------+-----------+---------+--------+--------+--------+---+------+------+\n",
      "only showing top 5 rows\n",
      "\n"
     ]
    }
   ],
   "source": [
    "SSExcelData.show(5)"
   ]
  },
  {
   "cell_type": "code",
   "execution_count": 7,
   "id": "60a25d34",
   "metadata": {},
   "outputs": [],
   "source": [
    "SSExcelData = SSExcelData.withColumnRenamed(\"Month \", \"Month\")"
   ]
  },
  {
   "cell_type": "code",
   "execution_count": 8,
   "id": "03253c99",
   "metadata": {},
   "outputs": [],
   "source": [
    "SSExcelData = SSExcelData.withColumn(\"SalesUnits\",SSExcelData.SalesUnits.cast('int')) \\\n",
    "                         .withColumn(\"SalesDollar\",SSExcelData.SalesDollar.cast('int')) \\\n",
    "                         .withColumn(\"SalesCost\",SSExcelData.SalesCost.cast('int')) \\\n",
    "                         .withColumn(\"Day\",SSExcelData.Day.cast('int')) \\\n",
    "                         .withColumn(\"Month\",SSExcelData.Month.cast('int')) \\\n",
    "                         .withColumn(\"Year\",SSExcelData.Year.cast('int'))"
   ]
  },
  {
   "cell_type": "code",
   "execution_count": 9,
   "id": "e26bb5ab",
   "metadata": {},
   "outputs": [
    {
     "name": "stdout",
     "output_type": "stream",
     "text": [
      "root\n",
      " |-- SalesUnits: integer (nullable = true)\n",
      " |-- SalesDollar: integer (nullable = true)\n",
      " |-- SalesCost: integer (nullable = true)\n",
      " |-- CustID: string (nullable = true)\n",
      " |-- StoreID: string (nullable = true)\n",
      " |-- ItemID: string (nullable = true)\n",
      " |-- Day: integer (nullable = true)\n",
      " |-- Month: integer (nullable = true)\n",
      " |-- Year: integer (nullable = true)\n",
      "\n"
     ]
    }
   ],
   "source": [
    "SSExcelData.printSchema()"
   ]
  },
  {
   "cell_type": "code",
   "execution_count": 10,
   "id": "ae5be591",
   "metadata": {},
   "outputs": [
    {
     "name": "stdout",
     "output_type": "stream",
     "text": [
      "+----------+-----------+---------+--------+--------+--------+---+-----+----+\n",
      "|SalesUnits|SalesDollar|SalesCost|  CustID| StoreID|  ItemID|Day|Month|Year|\n",
      "+----------+-----------+---------+--------+--------+--------+---+-----+----+\n",
      "|       111|       1111|     1111|C0954327|S1010398|I0036577|  1|    2|2014|\n",
      "|       222|       2222|     2222|C8654390|S9432910|I0036566|  3|    7|2017|\n",
      "|       333|       3333|     3333|C9128574|S0954327|I0036566|  1|    5|2017|\n",
      "|       444|       4444|     4444|C9403348|S0954327|I0036577|  1|    2|2017|\n",
      "|       101|       1001|     1001|C0954327|S9432910|I0036577|  3|    7|2017|\n",
      "+----------+-----------+---------+--------+--------+--------+---+-----+----+\n",
      "only showing top 5 rows\n",
      "\n"
     ]
    }
   ],
   "source": [
    "SSExcelData.show(5)"
   ]
  },
  {
   "cell_type": "code",
   "execution_count": 11,
   "id": "67d2f57a",
   "metadata": {},
   "outputs": [],
   "source": [
    "# Filter Rows Step\n",
    "SSExcelData = SSExcelData.na.drop(\"any\")"
   ]
  },
  {
   "cell_type": "code",
   "execution_count": 12,
   "id": "208c072f",
   "metadata": {},
   "outputs": [
    {
     "name": "stdout",
     "output_type": "stream",
     "text": [
      "+----------+-----------+---------+--------+--------+--------+---+-----+----+\n",
      "|SalesUnits|SalesDollar|SalesCost|  CustID| StoreID|  ItemID|Day|Month|Year|\n",
      "+----------+-----------+---------+--------+--------+--------+---+-----+----+\n",
      "|       303|       3003|     3003|C9128574|S0954327|I0036566|  1|    2|2014|\n",
      "|       111|       1111|     1111|C0954327|S1010398|I0036577|  1|    2|2014|\n",
      "|       121|       4224|     4224|C0954327|S0954327|I0036566|  1|    5|2015|\n",
      "|       444|       4444|     4444|C9403348|S0954327|I0036577|  1|    2|2017|\n",
      "|       333|       3333|     3333|C9128574|S0954327|I0036566|  1|    5|2017|\n",
      "+----------+-----------+---------+--------+--------+--------+---+-----+----+\n",
      "only showing top 5 rows\n",
      "\n"
     ]
    }
   ],
   "source": [
    "# Sort Rows Step\n",
    "SSExcelData = SSExcelData.sort(\"Year\",\"Month\",\"Day\")\n",
    "SSExcelData.show(5)"
   ]
  },
  {
   "cell_type": "markdown",
   "id": "64ae09d0",
   "metadata": {},
   "source": [
    "#### Load Postgres Data"
   ]
  },
  {
   "cell_type": "markdown",
   "id": "bec6599f",
   "metadata": {},
   "source": [
    "##### Time Dimension"
   ]
  },
  {
   "cell_type": "code",
   "execution_count": 13,
   "id": "0f932dcd",
   "metadata": {},
   "outputs": [],
   "source": [
    "# JDBC connect: https://spark.apache.org/docs/latest/sql-data-sources-jdbc.html\n",
    "# JDBC URI: https://stackoverflow.com/a/3582627\n",
    "# SSTimeDim Step\n",
    "SSTimeDim = spark.read \\\n",
    "                 .format(\"jdbc\") \\\n",
    "                 .option(\"url\", \"jdbc:postgresql://localhost:5432/coursera_dwh\") \\\n",
    "                 .option(\"dbtable\", \"ssstores.sstimedim\") \\\n",
    "                 .option(\"user\", \"postgres\") \\\n",
    "                 .option(\"password\", \"postgres\") \\\n",
    "                 .load()"
   ]
  },
  {
   "cell_type": "code",
   "execution_count": 14,
   "id": "233bb2a5",
   "metadata": {},
   "outputs": [
    {
     "name": "stdout",
     "output_type": "stream",
     "text": [
      "root\n",
      " |-- timeno: integer (nullable = true)\n",
      " |-- timeday: integer (nullable = true)\n",
      " |-- timemonth: integer (nullable = true)\n",
      " |-- timequarter: integer (nullable = true)\n",
      " |-- timeyear: integer (nullable = true)\n",
      " |-- timedayofweek: integer (nullable = true)\n",
      " |-- timefiscalyear: integer (nullable = true)\n",
      "\n"
     ]
    }
   ],
   "source": [
    "SSTimeDim.printSchema()"
   ]
  },
  {
   "cell_type": "code",
   "execution_count": 15,
   "id": "a78df2d5",
   "metadata": {},
   "outputs": [],
   "source": [
    "# Sort Rows 2\n",
    "SSTimeDim = SSTimeDim.sort(\"timeyear\",\"timemonth\",\"timeday\")"
   ]
  },
  {
   "cell_type": "code",
   "execution_count": 16,
   "id": "3ac923a0",
   "metadata": {
    "scrolled": true
   },
   "outputs": [
    {
     "name": "stdout",
     "output_type": "stream",
     "text": [
      "+------+-------+---------+-----------+--------+-------------+--------------+\n",
      "|timeno|timeday|timemonth|timequarter|timeyear|timedayofweek|timefiscalyear|\n",
      "+------+-------+---------+-----------+--------+-------------+--------------+\n",
      "|     1|      1|        2|          1|    2014|            2|          2014|\n",
      "|     2|      1|        5|          2|    2014|            4|          2014|\n",
      "|     3|      3|        7|          3|    2014|            3|          2014|\n",
      "|     4|      4|       10|          4|    2014|            2|          2014|\n",
      "|     5|      1|        2|          1|    2015|            2|          2015|\n",
      "+------+-------+---------+-----------+--------+-------------+--------------+\n",
      "only showing top 5 rows\n",
      "\n"
     ]
    }
   ],
   "source": [
    "SSTimeDim.show(5)"
   ]
  },
  {
   "cell_type": "markdown",
   "id": "7818eca8",
   "metadata": {},
   "source": [
    "#### Join"
   ]
  },
  {
   "cell_type": "code",
   "execution_count": 17,
   "id": "87c498a6",
   "metadata": {},
   "outputs": [],
   "source": [
    "joined_tmp = SSExcelData.join(SSTimeDim,\n",
    "                              (SSExcelData.Day == SSTimeDim.timeday) &\n",
    "                              (SSExcelData.Month == SSTimeDim.timemonth) &\n",
    "                              (SSExcelData.Year == SSTimeDim.timeyear),\n",
    "                              'inner'\n",
    "                             )"
   ]
  },
  {
   "cell_type": "code",
   "execution_count": 18,
   "id": "b91ede25",
   "metadata": {},
   "outputs": [
    {
     "name": "stdout",
     "output_type": "stream",
     "text": [
      "(9, 16)\n"
     ]
    }
   ],
   "source": [
    "print((joined_tmp.count(), len(joined_tmp.columns)))"
   ]
  },
  {
   "cell_type": "code",
   "execution_count": 19,
   "id": "56506f6c",
   "metadata": {},
   "outputs": [
    {
     "name": "stdout",
     "output_type": "stream",
     "text": [
      "root\n",
      " |-- SalesUnits: integer (nullable = true)\n",
      " |-- SalesDollar: integer (nullable = true)\n",
      " |-- SalesCost: integer (nullable = true)\n",
      " |-- CustID: string (nullable = true)\n",
      " |-- StoreID: string (nullable = true)\n",
      " |-- ItemID: string (nullable = true)\n",
      " |-- Day: integer (nullable = true)\n",
      " |-- Month: integer (nullable = true)\n",
      " |-- Year: integer (nullable = true)\n",
      " |-- timeno: integer (nullable = true)\n",
      " |-- timeday: integer (nullable = true)\n",
      " |-- timemonth: integer (nullable = true)\n",
      " |-- timequarter: integer (nullable = true)\n",
      " |-- timeyear: integer (nullable = true)\n",
      " |-- timedayofweek: integer (nullable = true)\n",
      " |-- timefiscalyear: integer (nullable = true)\n",
      "\n"
     ]
    }
   ],
   "source": [
    "joined_tmp.printSchema()"
   ]
  },
  {
   "cell_type": "markdown",
   "id": "6d2b0c41",
   "metadata": {},
   "source": [
    "##### Item Dimension"
   ]
  },
  {
   "cell_type": "code",
   "execution_count": 20,
   "id": "68cbdc2f",
   "metadata": {},
   "outputs": [],
   "source": [
    "SSItem = (spark.read\n",
    "          .format(\"jdbc\")\n",
    "          .option(\"url\", \"jdbc:postgresql://localhost:5432/coursera_dwh\")\n",
    "          .option(\"dbtable\", \"ssstores.ssitem\")\n",
    "          .option(\"user\", \"postgres\")\n",
    "          .option(\"password\", \"postgres\")\n",
    "          .load()\n",
    "         )"
   ]
  },
  {
   "cell_type": "code",
   "execution_count": 21,
   "id": "1205d9f7",
   "metadata": {},
   "outputs": [
    {
     "name": "stdout",
     "output_type": "stream",
     "text": [
      "root\n",
      " |-- itemid: string (nullable = true)\n",
      " |-- itemname: string (nullable = true)\n",
      " |-- itembrand: string (nullable = true)\n",
      " |-- itemcategory: string (nullable = true)\n",
      " |-- itemunitprice: decimal(12,2) (nullable = true)\n",
      "\n"
     ]
    }
   ],
   "source": [
    "SSItem.printSchema()"
   ]
  },
  {
   "cell_type": "code",
   "execution_count": 22,
   "id": "dc9af434",
   "metadata": {},
   "outputs": [
    {
     "name": "stdout",
     "output_type": "stream",
     "text": [
      "+--------+--------------------+--------------+--------------------+-------------+\n",
      "|  itemid|            itemname|     itembrand|        itemcategory|itemunitprice|\n",
      "+--------+--------------------+--------------+--------------------+-------------+\n",
      "|I0036566|17 inch Color Mon...|ColorMeg, Inc.|         Electronics|       169.00|\n",
      "|I0036577|19 inch Color Mon...|ColorMeg, Inc.|         Electronics|       319.00|\n",
      "|I1114590|R3000 Color Laser...|        Connex|            Printing|       699.00|\n",
      "|I1412138|10 Foot Printer C...|       Ethlite|Computer Accessories|        12.00|\n",
      "|I1445671|8-Outlet Surge Pr...|     Intersafe|Computer Accessories|        14.99|\n",
      "+--------+--------------------+--------------+--------------------+-------------+\n",
      "only showing top 5 rows\n",
      "\n"
     ]
    }
   ],
   "source": [
    "SSItem.show(5)"
   ]
  },
  {
   "cell_type": "markdown",
   "id": "f9ac0770",
   "metadata": {},
   "source": [
    "##### Join SSItem"
   ]
  },
  {
   "cell_type": "code",
   "execution_count": 23,
   "id": "a39657c2",
   "metadata": {},
   "outputs": [],
   "source": [
    "joined_tmp = joined_tmp.sort(\"ItemID\")"
   ]
  },
  {
   "cell_type": "code",
   "execution_count": 24,
   "id": "33354ec8",
   "metadata": {},
   "outputs": [],
   "source": [
    "SSItem = SSItem.sort(\"itemid\")"
   ]
  },
  {
   "cell_type": "code",
   "execution_count": 25,
   "id": "19ca6767",
   "metadata": {},
   "outputs": [],
   "source": [
    "joined_tmp2 = joined_tmp.join(SSItem, ['ItemID'])"
   ]
  },
  {
   "cell_type": "code",
   "execution_count": 26,
   "id": "a99f7145",
   "metadata": {},
   "outputs": [
    {
     "name": "stdout",
     "output_type": "stream",
     "text": [
      "(8, 20)\n"
     ]
    }
   ],
   "source": [
    "print((joined_tmp2.count(), len(joined_tmp2.columns)))"
   ]
  },
  {
   "cell_type": "code",
   "execution_count": 27,
   "id": "97e4db42",
   "metadata": {},
   "outputs": [
    {
     "name": "stdout",
     "output_type": "stream",
     "text": [
      "root\n",
      " |-- ItemID: string (nullable = true)\n",
      " |-- SalesUnits: integer (nullable = true)\n",
      " |-- SalesDollar: integer (nullable = true)\n",
      " |-- SalesCost: integer (nullable = true)\n",
      " |-- CustID: string (nullable = true)\n",
      " |-- StoreID: string (nullable = true)\n",
      " |-- Day: integer (nullable = true)\n",
      " |-- Month: integer (nullable = true)\n",
      " |-- Year: integer (nullable = true)\n",
      " |-- timeno: integer (nullable = true)\n",
      " |-- timeday: integer (nullable = true)\n",
      " |-- timemonth: integer (nullable = true)\n",
      " |-- timequarter: integer (nullable = true)\n",
      " |-- timeyear: integer (nullable = true)\n",
      " |-- timedayofweek: integer (nullable = true)\n",
      " |-- timefiscalyear: integer (nullable = true)\n",
      " |-- itemname: string (nullable = true)\n",
      " |-- itembrand: string (nullable = true)\n",
      " |-- itemcategory: string (nullable = true)\n",
      " |-- itemunitprice: decimal(12,2) (nullable = true)\n",
      "\n"
     ]
    }
   ],
   "source": [
    "joined_tmp2.printSchema()"
   ]
  },
  {
   "cell_type": "markdown",
   "id": "8819b6e9",
   "metadata": {},
   "source": [
    "##### Customer Dim"
   ]
  },
  {
   "cell_type": "code",
   "execution_count": 28,
   "id": "2b285346",
   "metadata": {},
   "outputs": [],
   "source": [
    "SSCustomer = (spark.read\n",
    "              .format(\"jdbc\")\n",
    "              .option(\"url\", \"jdbc:postgresql://localhost:5432/coursera_dwh\")\n",
    "              .option(\"dbtable\", \"ssstores.sscustomer\")\n",
    "              .option(\"user\", \"postgres\")\n",
    "              .option(\"password\", \"postgres\")\n",
    "              .load()\n",
    "             )"
   ]
  },
  {
   "cell_type": "code",
   "execution_count": 29,
   "id": "c9184cc6",
   "metadata": {},
   "outputs": [
    {
     "name": "stdout",
     "output_type": "stream",
     "text": [
      "+--------+------------+-------------+---------------+---------+---------+----------+----------+\n",
      "|  custid|    custname|    custphone|     custstreet| custcity|custstate|   custzip|custnation|\n",
      "+--------+------------+-------------+---------------+---------+---------+----------+----------+\n",
      "|C0954327|Sheri Gordon|(303)123-1234|   336 Hill St.|Littleton|       CO|80129-5543|       USA|\n",
      "|C1010398|Jim Glussman|(303)321-9876|1432 E. Ravenna|   Denver|       CO|80111-0033|       USA|\n",
      "|C2388597| Beth Taylor|(206)124-9876| 2396 Rafter Rd|  Seattle|       WA|98103-1121|       USA|\n",
      "|C3340959|  Betty Wise|(206)421-1276|  4334 153rd NW|  Seattle|       WA|98178-3311|       USA|\n",
      "|C8543321|Ron Thompson|(206)891-7664|  789 122nd St.|   Renton|       WA|98666-1289|       USA|\n",
      "+--------+------------+-------------+---------------+---------+---------+----------+----------+\n",
      "only showing top 5 rows\n",
      "\n"
     ]
    }
   ],
   "source": [
    "SSCustomer.show(5)"
   ]
  },
  {
   "cell_type": "code",
   "execution_count": 30,
   "id": "e29b7f87",
   "metadata": {},
   "outputs": [
    {
     "name": "stdout",
     "output_type": "stream",
     "text": [
      "root\n",
      " |-- custid: string (nullable = true)\n",
      " |-- custname: string (nullable = true)\n",
      " |-- custphone: string (nullable = true)\n",
      " |-- custstreet: string (nullable = true)\n",
      " |-- custcity: string (nullable = true)\n",
      " |-- custstate: string (nullable = true)\n",
      " |-- custzip: string (nullable = true)\n",
      " |-- custnation: string (nullable = true)\n",
      "\n"
     ]
    }
   ],
   "source": [
    "SSCustomer.printSchema()"
   ]
  },
  {
   "cell_type": "code",
   "execution_count": 31,
   "id": "c0788a3a",
   "metadata": {},
   "outputs": [],
   "source": [
    "joined_tmp2 = joined_tmp2.sort('CustID')"
   ]
  },
  {
   "cell_type": "code",
   "execution_count": 32,
   "id": "4fd4fca3",
   "metadata": {},
   "outputs": [],
   "source": [
    "SSCustomer = SSCustomer.sort('custid')"
   ]
  },
  {
   "cell_type": "code",
   "execution_count": 33,
   "id": "3d8acce3",
   "metadata": {},
   "outputs": [],
   "source": [
    "joined_tmp3 = joined_tmp2.join(SSCustomer, ['CustID'], 'inner')"
   ]
  },
  {
   "cell_type": "code",
   "execution_count": 34,
   "id": "1c9471da",
   "metadata": {},
   "outputs": [
    {
     "name": "stdout",
     "output_type": "stream",
     "text": [
      "(8, 27)\n"
     ]
    }
   ],
   "source": [
    "print((joined_tmp3.count(), len(joined_tmp3.columns)))"
   ]
  },
  {
   "cell_type": "code",
   "execution_count": 35,
   "id": "48045a80",
   "metadata": {},
   "outputs": [
    {
     "name": "stdout",
     "output_type": "stream",
     "text": [
      "root\n",
      " |-- CustID: string (nullable = true)\n",
      " |-- ItemID: string (nullable = true)\n",
      " |-- SalesUnits: integer (nullable = true)\n",
      " |-- SalesDollar: integer (nullable = true)\n",
      " |-- SalesCost: integer (nullable = true)\n",
      " |-- StoreID: string (nullable = true)\n",
      " |-- Day: integer (nullable = true)\n",
      " |-- Month: integer (nullable = true)\n",
      " |-- Year: integer (nullable = true)\n",
      " |-- timeno: integer (nullable = true)\n",
      " |-- timeday: integer (nullable = true)\n",
      " |-- timemonth: integer (nullable = true)\n",
      " |-- timequarter: integer (nullable = true)\n",
      " |-- timeyear: integer (nullable = true)\n",
      " |-- timedayofweek: integer (nullable = true)\n",
      " |-- timefiscalyear: integer (nullable = true)\n",
      " |-- itemname: string (nullable = true)\n",
      " |-- itembrand: string (nullable = true)\n",
      " |-- itemcategory: string (nullable = true)\n",
      " |-- itemunitprice: decimal(12,2) (nullable = true)\n",
      " |-- custname: string (nullable = true)\n",
      " |-- custphone: string (nullable = true)\n",
      " |-- custstreet: string (nullable = true)\n",
      " |-- custcity: string (nullable = true)\n",
      " |-- custstate: string (nullable = true)\n",
      " |-- custzip: string (nullable = true)\n",
      " |-- custnation: string (nullable = true)\n",
      "\n"
     ]
    }
   ],
   "source": [
    "joined_tmp3.printSchema()"
   ]
  },
  {
   "cell_type": "markdown",
   "id": "52a8a097",
   "metadata": {},
   "source": [
    "##### Store Dim"
   ]
  },
  {
   "cell_type": "code",
   "execution_count": 36,
   "id": "0ed275d8",
   "metadata": {},
   "outputs": [],
   "source": [
    "SSStore = (spark.read\n",
    "           .format(\"jdbc\")\n",
    "           .option(\"url\", \"jdbc:postgresql://localhost:5432/coursera_dwh\")\n",
    "           .option(\"dbtable\", \"ssstores.ssstore\")\n",
    "           .option(\"user\", \"postgres\")\n",
    "           .option(\"password\", \"postgres\")\n",
    "           .load()\n",
    "          )"
   ]
  },
  {
   "cell_type": "code",
   "execution_count": 37,
   "id": "0026369c",
   "metadata": {},
   "outputs": [
    {
     "name": "stdout",
     "output_type": "stream",
     "text": [
      "+--------+--------+-------------+---------------+---------+----------+----------+-----------+\n",
      "| storeid|   divid| storemanager|    storestreet|storecity|storestate|  storezip|storenation|\n",
      "+--------+--------+-------------+---------------+---------+----------+----------+-----------+\n",
      "|S0954327|D0104030|    Jim Smith|   436 Hill St.|Littleton|        CO|80129-5543|        USA|\n",
      "|S1010398|D0104030|Mary Glussman|1832 E. Ravenna|   Denver|        CO|80111-0033|        USA|\n",
      "|S2388597|D0225030|     Beth Woo| 5496 Rafter Rd|  Seattle|        WA|98103-1121|        USA|\n",
      "|S8543321|D3134030| Joe Thompson|  989 122nd St.|   Renton|        WA|98666-1289|        USA|\n",
      "|S9403348|D0225030|   Mary Boren|1242 Crest Ave.|Englewood|        CO|80113-5431|        USA|\n",
      "+--------+--------+-------------+---------------+---------+----------+----------+-----------+\n",
      "only showing top 5 rows\n",
      "\n"
     ]
    }
   ],
   "source": [
    "SSStore.show(5)"
   ]
  },
  {
   "cell_type": "code",
   "execution_count": 38,
   "id": "ceed9e77",
   "metadata": {},
   "outputs": [
    {
     "name": "stdout",
     "output_type": "stream",
     "text": [
      "root\n",
      " |-- storeid: string (nullable = true)\n",
      " |-- divid: string (nullable = true)\n",
      " |-- storemanager: string (nullable = true)\n",
      " |-- storestreet: string (nullable = true)\n",
      " |-- storecity: string (nullable = true)\n",
      " |-- storestate: string (nullable = true)\n",
      " |-- storezip: string (nullable = true)\n",
      " |-- storenation: string (nullable = true)\n",
      "\n"
     ]
    }
   ],
   "source": [
    "SSStore.printSchema()"
   ]
  },
  {
   "cell_type": "code",
   "execution_count": 39,
   "id": "f8b428b2",
   "metadata": {},
   "outputs": [],
   "source": [
    "joined_tmp3 = joined_tmp3.sort('StoreID')"
   ]
  },
  {
   "cell_type": "code",
   "execution_count": 40,
   "id": "3712aca1",
   "metadata": {},
   "outputs": [],
   "source": [
    "SSStore = SSStore.sort('storeid')"
   ]
  },
  {
   "cell_type": "code",
   "execution_count": 88,
   "id": "c5c8f785",
   "metadata": {},
   "outputs": [],
   "source": [
    "joined_tmp4 = joined_tmp3.join(SSStore, ['StoreID'], 'inner')"
   ]
  },
  {
   "cell_type": "code",
   "execution_count": 42,
   "id": "ce6b673f",
   "metadata": {},
   "outputs": [
    {
     "name": "stdout",
     "output_type": "stream",
     "text": [
      "(8, 34)\n"
     ]
    }
   ],
   "source": [
    "print((joined_tmp4.count(), len(joined_tmp4.columns)))"
   ]
  },
  {
   "cell_type": "code",
   "execution_count": 43,
   "id": "14b040c5",
   "metadata": {},
   "outputs": [
    {
     "name": "stdout",
     "output_type": "stream",
     "text": [
      "root\n",
      " |-- StoreID: string (nullable = true)\n",
      " |-- CustID: string (nullable = true)\n",
      " |-- ItemID: string (nullable = true)\n",
      " |-- SalesUnits: integer (nullable = true)\n",
      " |-- SalesDollar: integer (nullable = true)\n",
      " |-- SalesCost: integer (nullable = true)\n",
      " |-- Day: integer (nullable = true)\n",
      " |-- Month: integer (nullable = true)\n",
      " |-- Year: integer (nullable = true)\n",
      " |-- timeno: integer (nullable = true)\n",
      " |-- timeday: integer (nullable = true)\n",
      " |-- timemonth: integer (nullable = true)\n",
      " |-- timequarter: integer (nullable = true)\n",
      " |-- timeyear: integer (nullable = true)\n",
      " |-- timedayofweek: integer (nullable = true)\n",
      " |-- timefiscalyear: integer (nullable = true)\n",
      " |-- itemname: string (nullable = true)\n",
      " |-- itembrand: string (nullable = true)\n",
      " |-- itemcategory: string (nullable = true)\n",
      " |-- itemunitprice: decimal(12,2) (nullable = true)\n",
      " |-- custname: string (nullable = true)\n",
      " |-- custphone: string (nullable = true)\n",
      " |-- custstreet: string (nullable = true)\n",
      " |-- custcity: string (nullable = true)\n",
      " |-- custstate: string (nullable = true)\n",
      " |-- custzip: string (nullable = true)\n",
      " |-- custnation: string (nullable = true)\n",
      " |-- divid: string (nullable = true)\n",
      " |-- storemanager: string (nullable = true)\n",
      " |-- storestreet: string (nullable = true)\n",
      " |-- storecity: string (nullable = true)\n",
      " |-- storestate: string (nullable = true)\n",
      " |-- storezip: string (nullable = true)\n",
      " |-- storenation: string (nullable = true)\n",
      "\n"
     ]
    }
   ],
   "source": [
    "joined_tmp4.printSchema()"
   ]
  },
  {
   "cell_type": "markdown",
   "id": "0e88fc22",
   "metadata": {},
   "source": [
    "##### Store to Sales table"
   ]
  },
  {
   "cell_type": "code",
   "execution_count": 49,
   "id": "dd7c9586",
   "metadata": {},
   "outputs": [],
   "source": [
    "SSSales = (spark.read\n",
    "           .format(\"jdbc\")\n",
    "           .option(\"url\", \"jdbc:postgresql://localhost:5432/coursera_dwh\")\n",
    "           .option(\"dbtable\", \"ssstores.sssales\")\n",
    "           .option(\"user\", \"postgres\")\n",
    "           .option(\"password\", \"postgres\")\n",
    "           .load())"
   ]
  },
  {
   "cell_type": "code",
   "execution_count": 50,
   "id": "6993b217",
   "metadata": {},
   "outputs": [
    {
     "name": "stdout",
     "output_type": "stream",
     "text": [
      "root\n",
      " |-- salesno: integer (nullable = true)\n",
      " |-- salesunits: integer (nullable = true)\n",
      " |-- salesdollar: decimal(12,2) (nullable = true)\n",
      " |-- salescost: decimal(12,2) (nullable = true)\n",
      " |-- custid: string (nullable = true)\n",
      " |-- itemid: string (nullable = true)\n",
      " |-- storeid: string (nullable = true)\n",
      " |-- timeno: integer (nullable = true)\n",
      "\n"
     ]
    }
   ],
   "source": [
    "SSSales.printSchema()"
   ]
  },
  {
   "cell_type": "code",
   "execution_count": 90,
   "id": "f93fff29",
   "metadata": {},
   "outputs": [
    {
     "data": {
      "text/plain": [
       "['salesno',\n",
       " 'salesunits',\n",
       " 'salesdollar',\n",
       " 'salescost',\n",
       " 'custid',\n",
       " 'itemid',\n",
       " 'storeid',\n",
       " 'timeno']"
      ]
     },
     "execution_count": 90,
     "metadata": {},
     "output_type": "execute_result"
    }
   ],
   "source": [
    "table_cols = [col.name for col in SSSales.schema]\n",
    "table_cols"
   ]
  },
  {
   "cell_type": "code",
   "execution_count": 93,
   "id": "9015e35f",
   "metadata": {},
   "outputs": [
    {
     "name": "stdout",
     "output_type": "stream",
     "text": [
      "root\n",
      " |-- salesno: integer (nullable = false)\n",
      " |-- salesunits: integer (nullable = true)\n",
      " |-- salesdollar: integer (nullable = true)\n",
      " |-- salescost: integer (nullable = true)\n",
      " |-- custid: string (nullable = true)\n",
      " |-- itemid: string (nullable = true)\n",
      " |-- storeid: string (nullable = true)\n",
      " |-- timeno: integer (nullable = true)\n",
      "\n"
     ]
    }
   ],
   "source": [
    "final_dump_df = joined_tmp4.select(table_cols)\n",
    "final_dump_df.printSchema()"
   ]
  },
  {
   "cell_type": "markdown",
   "id": "877fbe64",
   "metadata": {},
   "source": [
    "##### Add Sequence"
   ]
  },
  {
   "cell_type": "code",
   "execution_count": 97,
   "id": "0272c472",
   "metadata": {},
   "outputs": [
    {
     "data": {
      "text/plain": [
       "192"
      ]
     },
     "execution_count": 97,
     "metadata": {},
     "output_type": "execute_result"
    }
   ],
   "source": [
    "sequence_start = SSSales.count()\n",
    "sequence_start"
   ]
  },
  {
   "cell_type": "code",
   "execution_count": 98,
   "id": "3b44a8c3",
   "metadata": {},
   "outputs": [],
   "source": [
    "# https://stackoverflow.com/a/52318817\n",
    "from pyspark.sql.functions import row_number, monotonically_increasing_id\n",
    "from pyspark.sql import Window"
   ]
  },
  {
   "cell_type": "code",
   "execution_count": 99,
   "id": "647f269b",
   "metadata": {},
   "outputs": [],
   "source": [
    "final_dump_df = final_dump_df.withColumn(\"salesno\",\n",
    "                                         row_number().over(Window.orderBy(monotonically_increasing_id())) + sequence_start\n",
    "                                        )"
   ]
  },
  {
   "cell_type": "code",
   "execution_count": 100,
   "id": "0900dba3",
   "metadata": {
    "scrolled": false
   },
   "outputs": [
    {
     "name": "stderr",
     "output_type": "stream",
     "text": [
      "22/11/19 08:02:23 WARN WindowExec: No Partition Defined for Window operation! Moving all data to a single partition, this can cause serious performance degradation.\n",
      "22/11/19 08:02:23 WARN WindowExec: No Partition Defined for Window operation! Moving all data to a single partition, this can cause serious performance degradation.\n",
      "22/11/19 08:02:23 WARN WindowExec: No Partition Defined for Window operation! Moving all data to a single partition, this can cause serious performance degradation.\n",
      "22/11/19 08:02:23 WARN WindowExec: No Partition Defined for Window operation! Moving all data to a single partition, this can cause serious performance degradation.\n",
      "22/11/19 08:02:23 WARN WindowExec: No Partition Defined for Window operation! Moving all data to a single partition, this can cause serious performance degradation.\n",
      "22/11/19 08:02:23 WARN WindowExec: No Partition Defined for Window operation! Moving all data to a single partition, this can cause serious performance degradation.\n",
      "22/11/19 08:02:24 WARN WindowExec: No Partition Defined for Window operation! Moving all data to a single partition, this can cause serious performance degradation.\n",
      "22/11/19 08:02:24 WARN WindowExec: No Partition Defined for Window operation! Moving all data to a single partition, this can cause serious performance degradation.\n",
      "22/11/19 08:02:24 WARN WindowExec: No Partition Defined for Window operation! Moving all data to a single partition, this can cause serious performance degradation.\n",
      "22/11/19 08:02:24 WARN WindowExec: No Partition Defined for Window operation! Moving all data to a single partition, this can cause serious performance degradation.\n"
     ]
    }
   ],
   "source": [
    "final_dump_df \\\n",
    "            .write \\\n",
    "            .format(\"jdbc\") \\\n",
    "            .mode('append') \\\n",
    "            .option(\"url\", \"jdbc:postgresql://localhost:5432/coursera_dwh\") \\\n",
    "            .option(\"dbtable\", \"ssstores.sssales\") \\\n",
    "            .option(\"user\", \"postgres\") \\\n",
    "            .option(\"password\", \"postgres\") \\\n",
    "            .save()"
   ]
  }
 ],
 "metadata": {
  "kernelspec": {
   "display_name": "Python 3",
   "language": "python",
   "name": "python3"
  },
  "language_info": {
   "codemirror_mode": {
    "name": "ipython",
    "version": 3
   },
   "file_extension": ".py",
   "mimetype": "text/x-python",
   "name": "python",
   "nbconvert_exporter": "python",
   "pygments_lexer": "ipython3",
   "version": "3.8.10"
  }
 },
 "nbformat": 4,
 "nbformat_minor": 5
}
